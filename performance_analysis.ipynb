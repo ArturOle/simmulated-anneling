{
 "cells": [
  {
   "cell_type": "code",
   "execution_count": 1,
   "metadata": {},
   "outputs": [
    {
     "data": {
      "text/plain": [
       "SimulatedAnnelingOpt (generic function with 1 method)"
      ]
     },
     "metadata": {},
     "output_type": "display_data"
    }
   ],
   "source": [
    "include(\"sm.jl\")\n"
   ]
  },
  {
   "cell_type": "code",
   "execution_count": 1,
   "metadata": {},
   "outputs": [],
   "source": [
    "@time SimulatedAnnelingOpt(\"data/model1.txt\", T_0=10.0^3, alpha=0.999, schedule=exponential!)"
   ]
  },
  {
   "cell_type": "code",
   "execution_count": null,
   "metadata": {},
   "outputs": [],
   "source": [
    "data = \"data/model1.txt\"\n",
    "\n",
    "alphas = [0.999, 0.9999, 0.99999]\n",
    "pcs = [0.001, 0.0001, 0.00001]\n",
    "T_0 = [10.0^3, 10.0^4, 10.0^5, 10.0^6, 10.0^7]\n",
    "\n",
    "error = Vector(undef, 3)\n",
    "data_frame = Matrix(CSV.read(data, DataFrame, delim=\" \")[:, 2:3])\n",
    "data_frame = transpose(data_frame)\n",
    "\n",
    "open(\"report_alpha.txt\", \"w+\") do f\n",
    "    for alph in alphas\n",
    "        for t_0 in T_0\n",
    "            write(f, \"\\nAlpha: $alph\\nT_0: $t_0\\n\\n\")\n",
    "            ten_best_iter = Vector(undef, 10)\n",
    "            for i in 1:3\n",
    "                best = @timed SimulatedAnnelingOpt(\n",
    "                    data,\n",
    "                    T_0=t_0,\n",
    "                    alpha=alph,\n",
    "                    schedule=exponential!\n",
    "                )\n",
    "\n",
    "                ten_best_iter[i] = (best.value[1][1], best.value[1][3], best.time)\n",
    "                write(f, \"$(best.value[1])\\n\")\n",
    "                write(f, \"$(best.value[3])\\n\")\n",
    "                write(f, \"$(best.time)\\n\")\n",
    "            end\n",
    "        end\n",
    "    end\n",
    "end\n"
   ]
  },
  {
   "cell_type": "code",
   "execution_count": 2,
   "metadata": {},
   "outputs": [],
   "source": [
    "data = \"data/model1.txt\"\n",
    "\n",
    "betas = [0.001, 0.0001, 0.00001]\n",
    "T_0 = [10.0^3, 10.0^4, 10.0^5, 10.0^6, 10.0^7]\n",
    "\n",
    "error = Vector(undef, 3)\n",
    "data_frame = Matrix(CSV.read(data, DataFrame, delim=\" \")[:, 2:3])\n",
    "data_frame = transpose(data_frame)\n",
    "\n",
    "open(\"report_beta.txt\", \"w+\") do f\n",
    "    for bet in betas\n",
    "        for t_0 in T_0\n",
    "            write(f, \"\\nBeta: $bet\\nT_0: $t_0\\n\\n\")\n",
    "            ten_best_iter = Vector(undef, 10)\n",
    "            for i in 1:3\n",
    "                best = @timed SimulatedAnnelingOpt(\n",
    "                    data,\n",
    "                    T_0=t_0,\n",
    "                    beta=bet,\n",
    "                    schedule=inverse_exponential!\n",
    "                )\n",
    "\n",
    "                ten_best_iter[i] = (best.value[1][1], best.value[1][3], best.time)\n",
    "                write(f, \"$(best.value[1])\\n\")\n",
    "                write(f, \"$(best.value[3])\\n\")\n",
    "                write(f, \"$(best.time)\\n\")\n",
    "            end\n",
    "        end\n",
    "    end\n",
    "end\n"
   ]
  }
 ],
 "metadata": {
  "kernelspec": {
   "display_name": "Julia 1.7.3",
   "language": "julia",
   "name": "julia-1.7"
  },
  "language_info": {
   "file_extension": ".jl",
   "mimetype": "application/julia",
   "name": "julia",
   "version": "1.7.3"
  },
  "orig_nbformat": 4
 },
 "nbformat": 4,
 "nbformat_minor": 2
}
